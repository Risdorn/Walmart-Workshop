{
  "cells": [
    {
      "cell_type": "markdown",
      "metadata": {
        "id": "LUrLT1oQIpFl"
      },
      "source": [
        "## Attributions & License\n",
        "\n",
        "This code is modified from https://github.com/tintn/vision-transformer-from-scratch for the purpose of this handson (MIT Licence)\n",
        "\n",
        "This code downloads CIFAR 10 dataset from https://www.cs.toronto.edu/~kriz/cifar.html. This dataset is released on MIT License (https://proceedings.neurips.cc/paper/2021/file/793bc52a941b3951dfdb85fb04f9fd06-Supplemental.pdf)\n",
        "\n",
        "This tutorial and code is licensed under [MIT License](license.txt)\n",
        "\n",
        "## NOTE\n",
        "This notebook will be run using google colab here : https://colab.research.google.com/drive/1q6P7wRc5FGqBXr82_3vZwNgPKdgWeK3u"
      ]
    },
    {
      "cell_type": "code",
      "execution_count": null,
      "metadata": {
        "id": "otnyUUmLIpFo"
      },
      "outputs": [],
      "source": [
        "import torch\n",
        "import torchvision\n",
        "import torchvision.transforms as transforms\n",
        "\n",
        "eval_transform = transforms.Compose([\n",
        "    transforms.ToTensor(),\n",
        "    transforms.Resize((32, 32)),\n",
        "    transforms.Normalize((0.5, 0.5, 0.5), (0.5, 0.5, 0.5))\n",
        "    ]\n",
        "                                    )\n",
        "\n",
        "def prepare_data(batch_size=4, num_workers=2, train_sample_size=None, test_sample_size=None):\n",
        "\n",
        "    train_transform = transforms.Compose([\n",
        "        transforms.ToTensor(),\n",
        "        transforms.Resize((32, 32)),\n",
        "        transforms.RandomHorizontalFlip(p=0.5),\n",
        "        transforms.RandomResizedCrop((32, 32), scale=(0.8, 1.0), ratio=(0.75, 1.3333333333333333), interpolation=2),\n",
        "        transforms.Normalize((0.5, 0.5, 0.5), (0.5, 0.5, 0.5))\n",
        "        ]\n",
        "                                         )\n",
        "\n",
        "    trainset = torchvision.datasets.CIFAR10(root='./data', train=True,\n",
        "                                            download=True, transform=train_transform)\n",
        "    if train_sample_size is not None:\n",
        "        # Randomly sample a subset of the training set\n",
        "        indices = torch.randperm(len(trainset))[:train_sample_size]\n",
        "        trainset = torch.utils.data.Subset(trainset, indices)\n",
        "\n",
        "\n",
        "\n",
        "    trainloader = torch.utils.data.DataLoader(trainset, batch_size=batch_size,\n",
        "                                            shuffle=True, num_workers=num_workers)\n",
        "\n",
        "    eval_transform = transforms.Compose(\n",
        "        [transforms.ToTensor(),\n",
        "        transforms.Resize((32, 32)),\n",
        "        transforms.Normalize((0.5, 0.5, 0.5), (0.5, 0.5, 0.5))])\n",
        "\n",
        "    testset = torchvision.datasets.CIFAR10(root='./data', train=False,\n",
        "                                        download=True, transform=eval_transform)\n",
        "    if test_sample_size is not None:\n",
        "        # Randomly sample a subset of the test set\n",
        "        indices = torch.randperm(len(testset))[:test_sample_size]\n",
        "        testset = torch.utils.data.Subset(testset, indices)\n",
        "\n",
        "    testloader = torch.utils.data.DataLoader(testset, batch_size=batch_size,\n",
        "                                            shuffle=False, num_workers=num_workers)\n",
        "\n",
        "    classes = ['plane', 'car', 'bird', 'cat',\n",
        "               'deer', 'dog', 'frog', 'horse', 'ship', 'truck']\n",
        "\n",
        "    return trainloader, testloader, classes"
      ]
    },
    {
      "cell_type": "markdown",
      "metadata": {
        "id": "ThF0oETdIpFp"
      },
      "source": [
        "# Introduction\n",
        "We are going to construct the transformer block by block.\n",
        "For reference, see the the architecture of VIT again\n",
        "\n",
        "![alt text](images/ViT-arch.png)\n"
      ]
    },
    {
      "cell_type": "markdown",
      "metadata": {
        "id": "yAMXBQDPIpFp"
      },
      "source": [
        "# Patch embeddings\n",
        "\n",
        "First we are going to construct the image embeddings.\n",
        "Hence, here we need to\n",
        "\n",
        "1. Convert the images into 16x16 patches\n",
        "2. Make the patches into a linear dimension\n",
        "3. Do a linear projection\n",
        "\n",
        "![](images/cnn.gif)\n",
        "\n",
        "Ref:https://en.wikipedia.org/wiki/File:2D_Convolution_Animation.gif\n",
        "\n",
        "\n",
        "![](images/learnt_emb.png)\n",
        "\n",
        "The final learnt projections from orignal paper. Note that they are similar to the CNN filters"
      ]
    },
    {
      "cell_type": "code",
      "execution_count": null,
      "metadata": {
        "id": "HVwEVWJoIpFq"
      },
      "outputs": [],
      "source": [
        "import torch.nn as nn\n",
        "\n",
        "class PatchEmbeddings(nn.Module):\n",
        "\n",
        "    def __init__(self, image_size, patch_size, nchannels, hidden_size):\n",
        "        super().__init__()\n",
        "\n",
        "        self.num_patches = (image_size // patch_size) * (image_size // patch_size)\n",
        "        self.linear_projection = nn.Conv2d(nchannels, hidden_size, kernel_size=patch_size, stride=patch_size)\n",
        "\n",
        "    def forward(self, x):\n",
        "\n",
        "        x = self.linear_projection(x)\n",
        "        x = x.flatten(2)\n",
        "        x = x.transpose(1, 2)\n",
        "\n",
        "        return x"
      ]
    },
    {
      "cell_type": "markdown",
      "metadata": {
        "id": "NtO2R7SWIpFq"
      },
      "source": [
        "# Positional encodings\n",
        "\n",
        "A major problem of the embeddings is that they are position independent.\n",
        "\n",
        "There is no way for transformer to know where each embedding came from.\n",
        "\n",
        "Since Images have a spatial relationship, we need to enode that into the patches.\n",
        "\n",
        "ViT does that by adding a learnable parameter per position to each patch\n",
        "\n",
        "![](images/pos_emb.png)\n",
        "\n",
        "Above you can see the learnt postional embeddings from original paper, note that the embeddings kind of translate to row, column cordinates"
      ]
    },
    {
      "cell_type": "code",
      "execution_count": null,
      "metadata": {
        "id": "f84XfHO5IpFr"
      },
      "outputs": [],
      "source": [
        "import torch\n",
        "from torch import nn\n",
        "\n",
        "class Embeddings(nn.Module):\n",
        "\n",
        "    def __init__(self, image_size, patch_size, nchannels, hidden_size):\n",
        "        super().__init__()\n",
        "\n",
        "        self.patch_embeddings = PatchEmbeddings(image_size, patch_size, nchannels, hidden_size)\n",
        "\n",
        "        self.cls_token = nn.Parameter(torch.randn(1, 1, hidden_size))\n",
        "        self.position_embeddings = nn.Parameter(torch.randn(1, self.patch_embeddings.num_patches + 1, hidden_size))\n",
        "        self.dropout = nn.Dropout(0.1)\n",
        "\n",
        "    def forward(self, x):\n",
        "        x = self.patch_embeddings(x)\n",
        "\n",
        "        cls_tokens = self.cls_token.expand(x.size()[0], -1, -1)\n",
        "\n",
        "        # Why are we adding position embeddings and not append?\n",
        "        x = torch.cat((cls_tokens, x), dim=1) + self.position_embeddings\n",
        "        x = self.dropout(x)\n",
        "\n",
        "        return x"
      ]
    },
    {
      "cell_type": "markdown",
      "metadata": {
        "id": "-P-BUh7KIpFs"
      },
      "source": [
        "![alt text](images/attention.png)"
      ]
    },
    {
      "cell_type": "code",
      "execution_count": null,
      "metadata": {
        "id": "dpMaKNNqIpFs"
      },
      "outputs": [],
      "source": [
        "import math\n",
        "\n",
        "class AttentionHead(nn.Module):\n",
        "\n",
        "    def __init__(self, hidden_size, attention_head_size, dropout):\n",
        "        super().__init__()\n",
        "\n",
        "        self.Q = nn.Linear(hidden_size, attention_head_size, bias=True)\n",
        "        self.K = nn.Linear(hidden_size, attention_head_size, bias=True)\n",
        "        self.V = nn.Linear(hidden_size, attention_head_size, bias=True)\n",
        "\n",
        "        self.dropout = nn.Dropout(dropout)\n",
        "\n",
        "        self.attention_head_size = attention_head_size\n",
        "\n",
        "\n",
        "    def forward(self, x):\n",
        "\n",
        "        Q = self.Q(x)\n",
        "        K = self.K(x)\n",
        "        V = self.V(x)\n",
        "\n",
        "        #attention = softmax(Q*K^T)*V\n",
        "        scores = torch.matmul(Q, K.transpose(-1, -2))/ math.sqrt(self.attention_head_size)\n",
        "        probs = nn.functional.softmax(scores, dim=-1)\n",
        "\n",
        "        probs = self.dropout(probs)\n",
        "\n",
        "        output = torch.matmul(probs, V)\n",
        "\n",
        "        return (output, probs)"
      ]
    },
    {
      "cell_type": "markdown",
      "metadata": {
        "id": "uV1uzWX2IpFt"
      },
      "source": [
        "![alt text](images/multi_att.png)\n",
        "\n",
        "\n",
        "Ref Figure 2 https://arxiv.org/pdf/1706.03762v7.pdf"
      ]
    },
    {
      "cell_type": "code",
      "execution_count": null,
      "metadata": {
        "id": "mlpgMc1SIpFt"
      },
      "outputs": [],
      "source": [
        "class MultiHeadAttention(nn.Module):\n",
        "\n",
        "    def __init__(self, hidden_size, nheads, dropout):\n",
        "        super().__init__()\n",
        "\n",
        "        self.head_size = hidden_size // nheads\n",
        "        self.all_head_tot = nheads * self.head_size\n",
        "\n",
        "        self.heads = nn.ModuleList([])\n",
        "        for _ in range(nheads):\n",
        "            head = AttentionHead(hidden_size, self.head_size, dropout)\n",
        "            self.heads.append(head)\n",
        "\n",
        "        self.output_projection = nn.Linear(self.all_head_tot, hidden_size)\n",
        "        self.output_dropout = nn.Dropout(dropout)\n",
        "\n",
        "    def forward(self, x, output_attentions=False):\n",
        "\n",
        "        attention_outputs = [head(x) for head in self.heads]\n",
        "        attention_output = torch.cat([attention_output for attention_output, _ in attention_outputs], dim=-1)\n",
        "\n",
        "        attention_output = self.output_projection(attention_output)\n",
        "        attention_output = self.output_dropout(attention_output)\n",
        "\n",
        "        # Return the attention output and the attention probabilities (optional)\n",
        "        if not output_attentions:\n",
        "            return (attention_output, None)\n",
        "        else:\n",
        "            attention_probs = torch.stack([attention_probs for _, attention_probs in attention_outputs], dim=1)\n",
        "            return (attention_output, attention_probs)"
      ]
    },
    {
      "cell_type": "code",
      "execution_count": null,
      "metadata": {
        "id": "J-GxuaJNIpFu"
      },
      "outputs": [],
      "source": [
        "import math\n",
        "class NewGELUActivation(nn.Module):\n",
        "    \"\"\"\n",
        "    Implementation of the GELU activation function currently in Google BERT repo (identical to OpenAI GPT). Also see\n",
        "    the Gaussian Error Linear Units paper: https://arxiv.org/abs/1606.08415\n",
        "\n",
        "    Taken from https://github.com/huggingface/transformers/blob/main/src/transformers/activations.py\n",
        "    \"\"\"\n",
        "\n",
        "    def forward(self, input):\n",
        "        return 0.5 * input * (1.0 + torch.tanh(math.sqrt(2.0 / math.pi) * (input + 0.044715 * torch.pow(input, 3.0))))\n",
        "\n",
        "class MLP(nn.Module):\n",
        "    \"\"\"\n",
        "    A multi-layer perceptron module.\n",
        "    \"\"\"\n",
        "\n",
        "    def __init__(self, hidden_size, intermediate_size, dropout):\n",
        "        super().__init__()\n",
        "        self.dense_1 = nn.Linear(hidden_size, intermediate_size)\n",
        "        self.activation = NewGELUActivation()\n",
        "        self.dense_2 = nn.Linear(intermediate_size, hidden_size)\n",
        "        self.dropout = nn.Dropout(dropout)\n",
        "\n",
        "    def forward(self, x):\n",
        "        x = self.dense_1(x)\n",
        "        x = self.activation(x)\n",
        "        x = self.dense_2(x)\n",
        "        x = self.dropout(x)\n",
        "        return x"
      ]
    },
    {
      "cell_type": "markdown",
      "metadata": {
        "id": "98lo5va1IpFu"
      },
      "source": [
        "![alt text](images/block_trans.png)"
      ]
    },
    {
      "cell_type": "code",
      "execution_count": null,
      "metadata": {
        "id": "_zxfRXvFIpFu"
      },
      "outputs": [],
      "source": [
        "class Block(nn.Module):\n",
        "    \"\"\"\n",
        "    A single transformer block.\n",
        "    \"\"\"\n",
        "\n",
        "    def __init__(self, hidden_size, nheads, intermediate_size, dropout):\n",
        "        super().__init__()\n",
        "        self.attention = MultiHeadAttention(hidden_size, nheads, dropout)\n",
        "\n",
        "        self.layernorm_1 = nn.LayerNorm(hidden_size)\n",
        "        self.mlp = MLP(hidden_size, intermediate_size, dropout)\n",
        "        self.layernorm_2 = nn.LayerNorm(hidden_size)\n",
        "\n",
        "    def forward(self, x, output_attentions=False):\n",
        "\n",
        "        attention_output, attention_probs = self.attention(self.layernorm_1(x), output_attentions=output_attentions)\n",
        "        x = x + attention_output\n",
        "\n",
        "        mlp_output = self.mlp(self.layernorm_2(x))\n",
        "        x = x + mlp_output\n",
        "\n",
        "        # Return the transformer block's output and the attention probabilities (optional)\n",
        "        if not output_attentions:\n",
        "            return (x, None)\n",
        "        else:\n",
        "            return (x, attention_probs)"
      ]
    },
    {
      "cell_type": "markdown",
      "metadata": {
        "id": "HS7DlW-XIpFv"
      },
      "source": [
        "![alt text](images/arch_trans.png)\n"
      ]
    },
    {
      "cell_type": "code",
      "execution_count": null,
      "metadata": {
        "id": "AzUYnYiQIpFv"
      },
      "outputs": [],
      "source": [
        "class Encoder(nn.Module):\n",
        "    \"\"\"\n",
        "    The transformer encoder module.\n",
        "    \"\"\"\n",
        "\n",
        "    def __init__(self, nblocks, hidden_size, nheads, intermediate_size, dropout):\n",
        "        super().__init__()\n",
        "\n",
        "\n",
        "        self.blocks = nn.ModuleList([])\n",
        "        for _ in range(nblocks):\n",
        "            block = Block(hidden_size, nheads, intermediate_size, dropout)\n",
        "            self.blocks.append(block)\n",
        "\n",
        "    def forward(self, x, output_attentions=False):\n",
        "        # Calculate the transformer block's output for each block\n",
        "        all_attentions = []\n",
        "        for block in self.blocks:\n",
        "            x, attention_probs = block(x, output_attentions=output_attentions)\n",
        "            if output_attentions:\n",
        "                all_attentions.append(attention_probs)\n",
        "        # Return the encoder's output and the attention probabilities (optional)\n",
        "        if not output_attentions:\n",
        "            return (x, None)\n",
        "        else:\n",
        "            return (x, all_attentions)"
      ]
    },
    {
      "cell_type": "code",
      "execution_count": null,
      "metadata": {
        "id": "jFM-qQeuIpFv"
      },
      "outputs": [],
      "source": [
        "class ViT(nn.Module):\n",
        "\n",
        "\n",
        "    def __init__(self, image_size, hidden_size, nclass, patch_size, nchannels, n_hidden_layers, nheads, intermediate_size, dropout):\n",
        "        super().__init__()\n",
        "\n",
        "        self.embedding = Embeddings(image_size, patch_size, nchannels, hidden_size)\n",
        "        self.encoder = Encoder(n_hidden_layers, hidden_size, nheads, intermediate_size, dropout)\n",
        "        self.classifier = nn.Linear(hidden_size, nclass)\n",
        "\n",
        "        self.apply(self._init_weights)\n",
        "\n",
        "    def forward(self, x, output_attentions=False):\n",
        "        # Calculate the embedding output\n",
        "        embedding_output = self.embedding(x)\n",
        "        # Calculate the encoder's output\n",
        "        encoder_output, all_attentions = self.encoder(embedding_output, output_attentions=output_attentions)\n",
        "        # Calculate the logits, take the [CLS] token's output as features for classification\n",
        "        logits = self.classifier(encoder_output[:, 0, :])\n",
        "        # Return the logits and the attention probabilities (optional)\n",
        "        if not output_attentions:\n",
        "            return (logits, None)\n",
        "        else:\n",
        "            return (logits, all_attentions)\n",
        "\n",
        "    def _init_weights(self, module):\n",
        "        if isinstance(module, (nn.Linear, nn.Conv2d)):\n",
        "            torch.nn.init.normal_(module.weight, mean=0.0, std=0.02)\n",
        "            if module.bias is not None:\n",
        "                torch.nn.init.zeros_(module.bias)\n",
        "        elif isinstance(module, nn.LayerNorm):\n",
        "            module.bias.data.zero_()\n",
        "            module.weight.data.fill_(1.0)\n",
        "        elif isinstance(module, Embeddings):\n",
        "            module.position_embeddings.data = nn.init.trunc_normal_(\n",
        "                module.position_embeddings.data.to(torch.float32),\n",
        "                mean=0.0,\n",
        "                std=0.02,\n",
        "            ).to(module.position_embeddings.dtype)\n",
        "\n",
        "            module.cls_token.data = nn.init.trunc_normal_(\n",
        "                module.cls_token.data.to(torch.float32),\n",
        "                mean=0.0,\n",
        "                std=0.02,\n",
        "            ).to(module.cls_token.dtype)"
      ]
    },
    {
      "cell_type": "code",
      "execution_count": null,
      "metadata": {
        "id": "JsDpMyGYIpFw"
      },
      "outputs": [],
      "source": [
        "class Trainer:\n",
        "\n",
        "    def __init__(self, model, optimizer, loss_fn, device):\n",
        "\n",
        "        self.model = model.to(device)\n",
        "        self.optimizer = optimizer\n",
        "        self.loss_fn = loss_fn\n",
        "        self.device = device\n",
        "\n",
        "    def train(self, trainloader, testloader, nepochs):\n",
        "\n",
        "        train_losses, test_losses, test_accuracies = [], [], []\n",
        "\n",
        "        for epoch in range(nepochs):\n",
        "\n",
        "            train_loss = self.train_one_epoch(trainloader)\n",
        "            train_losses.append(train_loss)\n",
        "\n",
        "            accuracy, test_loss = self.evaluate(testloader)\n",
        "\n",
        "            test_losses.append(test_loss)\n",
        "            test_accuracies.append(accuracy)\n",
        "\n",
        "            print(f\"Epoch: {epoch}, Train loss: {train_loss:.4f}, Test loss: {test_loss:.4f}, Accuracy: {accuracy:.4f}\")\n",
        "\n",
        "\n",
        "    def train_one_epoch(self, loader):\n",
        "\n",
        "        total_loss = 0\n",
        "        self.model.train()\n",
        "        for batch in loader:\n",
        "\n",
        "            batch = [t.to(self.device) for t in batch]\n",
        "            images, labels = batch\n",
        "\n",
        "            self.optimizer.zero_grad()\n",
        "            pred = self.model(images)[0]\n",
        "\n",
        "            loss = self.loss_fn(pred, labels)\n",
        "            loss.backward()\n",
        "            self.optimizer.step()\n",
        "\n",
        "            total_loss += loss.item() * len(images)\n",
        "\n",
        "        avg_loss = total_loss/ len(loader.dataset)\n",
        "        return avg_loss\n",
        "\n",
        "    @torch.no_grad()\n",
        "    def evaluate(self, loader):\n",
        "\n",
        "        self.model.eval()\n",
        "\n",
        "        total_loss, ncorrect = 0, 0\n",
        "        with torch.no_grad():\n",
        "            for batch in loader:\n",
        "\n",
        "                batch = [t.to(self.device) for t in batch]\n",
        "                images, labels = batch\n",
        "\n",
        "                logits, _ = self.model(images)\n",
        "\n",
        "                loss = self.loss_fn(logits, labels)\n",
        "                total_loss += loss.item() * len(images)\n",
        "\n",
        "                # Calculate the accuracy\n",
        "                predictions = torch.argmax(logits, dim=1)\n",
        "                ncorrect += torch.sum(predictions == labels).item()\n",
        "\n",
        "        accuracy = ncorrect / len(loader.dataset)\n",
        "        avg_loss = total_loss / len(loader.dataset)\n",
        "\n",
        "        return accuracy, avg_loss\n",
        "\n",
        "    @torch.no_grad()\n",
        "    def prdict(self, image):\n",
        "        self.model.eval()\n",
        "\n",
        "        with torch.no_grad():\n",
        "            image = torch.unsqueeze(image, dim=0)\n",
        "            image = image.to(self.device)\n",
        "            logits, _ = self.model(image)\n",
        "        return logits\n",
        "\n"
      ]
    },
    {
      "cell_type": "code",
      "execution_count": null,
      "metadata": {
        "colab": {
          "base_uri": "https://localhost:8080/"
        },
        "id": "BhT9v1tTIpFw",
        "outputId": "2a52f8ea-9217-4dc8-a757-32bffc538534"
      },
      "outputs": [
        {
          "output_type": "stream",
          "name": "stdout",
          "text": [
            "Downloading https://www.cs.toronto.edu/~kriz/cifar-10-python.tar.gz to ./data/cifar-10-python.tar.gz\n"
          ]
        },
        {
          "output_type": "stream",
          "name": "stderr",
          "text": [
            "100%|██████████| 170498071/170498071 [00:10<00:00, 15799789.64it/s]\n"
          ]
        },
        {
          "output_type": "stream",
          "name": "stdout",
          "text": [
            "Extracting ./data/cifar-10-python.tar.gz to ./data\n",
            "Files already downloaded and verified\n",
            "Epoch: 0, Train loss: 2.1748, Test loss: 2.1018, Accuracy: 0.1839\n",
            "Epoch: 1, Train loss: 2.0710, Test loss: 2.0491, Accuracy: 0.2115\n"
          ]
        }
      ],
      "source": [
        "from torch import nn, optim\n",
        "\n",
        "# Load the CIFAR10 dataset\n",
        "trainloader, testloader, classes = prepare_data(batch_size=32)\n",
        "\n",
        "\n",
        "model = ViT(image_size=32,\n",
        "            hidden_size=48,\n",
        "            nclass=10,\n",
        "            patch_size=4,\n",
        "            nchannels=3,\n",
        "            n_hidden_layers=4,\n",
        "            nheads=4,\n",
        "            intermediate_size=4*48,\n",
        "            dropout=0.0)\n",
        "\n",
        "optimizer = optim.AdamW(model.parameters(), lr=1e-5, weight_decay=1e-2)\n",
        "loss_fn = nn.CrossEntropyLoss()\n",
        "\n",
        "trainer = Trainer(model, optimizer, loss_fn, device='cpu')\n",
        "\n",
        "trainer.train(trainloader, testloader, nepochs=2)"
      ]
    },
    {
      "cell_type": "code",
      "execution_count": null,
      "metadata": {
        "colab": {
          "base_uri": "https://localhost:8080/",
          "height": 187
        },
        "id": "cU3cWmUHIpFw",
        "outputId": "54ca5aa4-936f-4783-f107-8589fad1979e"
      },
      "outputs": [
        {
          "output_type": "stream",
          "name": "stdout",
          "text": [
            "Files already downloaded and verified\n"
          ]
        },
        {
          "output_type": "display_data",
          "data": {
            "text/plain": [
              "<Figure size 1000x1000 with 5 Axes>"
            ],
            "image/png": "[encoded data removed]"
          },
          "metadata": {}
        }
      ],
      "source": [
        "import numpy as np\n",
        "from matplotlib import pyplot as plt\n",
        "\n",
        "image_set = torchvision.datasets.CIFAR10(root='./data', train=False, download=True)\n",
        "classes = ['plane', 'car', 'bird', 'cat', 'deer', 'dog', 'frog', 'horse', 'ship', 'truck']\n",
        "\n",
        "indices = torch.randperm(len(image_set))[:5]\n",
        "images = [np.asarray(image_set[i][0]) for i in indices]\n",
        "labels = [image_set[i][1] for i in indices]\n",
        "\n",
        "# Visualize the images using matplotlib\n",
        "fig = plt.figure(figsize=(10, 10))\n",
        "for i in range(5):\n",
        "    ax = fig.add_subplot(6, 5, i+1, xticks=[], yticks=[])\n",
        "    ax.imshow(images[i])\n",
        "    ax.set_title(classes[labels[i]])"
      ]
    }
  ],
  "metadata": {
    "kernelspec": {
      "display_name": "Python 3",
      "name": "python3"
    },
    "language_info": {
      "codemirror_mode": {
        "name": "ipython",
        "version": 3
      },
      "file_extension": ".py",
      "mimetype": "text/x-python",
      "name": "python",
      "nbconvert_exporter": "python",
      "pygments_lexer": "ipython3",
      "version": "3.9.6"
    },
    "colab": {
      "provenance": []
    }
  },
  "nbformat": 4,
  "nbformat_minor": 0
}